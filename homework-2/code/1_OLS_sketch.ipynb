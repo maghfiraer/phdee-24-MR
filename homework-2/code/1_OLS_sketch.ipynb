{
 "cells": [
  {
   "cell_type": "code",
   "execution_count": 10,
   "metadata": {},
   "outputs": [],
   "source": [
    "import numpy as np\n",
    "import pandas as pd\n",
    "from scipy.optimize import minimize\n",
    "\n",
    "class manualOLS:\n",
    "    def __init__(self, X, y, addIntercept=True, method='byhand', useRobust=False):\n",
    "        '''\n",
    "        This class implements the OLS estimator using different methods: 'byhand', 'leastsquares', and 'statsmodels'\n",
    "        '''\n",
    "        self.X = X\n",
    "        self.y = y\n",
    "        self.method = method\n",
    "        self.addIntercept = addIntercept\n",
    "        self.useRobust = useRobust\n",
    "        \n",
    "        if self.X.ndim==1:\n",
    "            self.X = self.X[:,np.newaxis]\n",
    "        if self.y.ndim==1:\n",
    "            self.y = self.y[:,np.newaxis]\n",
    "        if self.addIntercept:\n",
    "            self.X = np.concatenate((self.X, np.ones((self.X.shape[0],1))), axis=1)\n",
    "        \n",
    "        self.xxinv= np.linalg.inv(self.X.T @ self.X)\n",
    "        self.n,self.k=self.X.shape\n",
    "        \n",
    "    def beta(self):\n",
    "        if self.method=='byhand':\n",
    "            beta = self.xxinv @ self.X.T @ self.y\n",
    "            \n",
    "        elif self.method=='leastsquares':\n",
    "            def ssr(b, X, y):\n",
    "                return np.sum(np.square(y-X@b[:,np.newaxis]))\n",
    "            beta=minimize(ssr, x0=np.zeros((self.X.shape[1],1)), args=(self.X, self.y)).x[:,np.newaxis]\n",
    "            \n",
    "        elif self.method=='statsmodels':\n",
    "            import statsmodels.api as sm\n",
    "            beta = sm.OLS(self.y, self.X).fit().params[:,np.newaxis]\n",
    "            \n",
    "        else:\n",
    "            raise ValueError('Method not recognized')\n",
    "        \n",
    "        return beta\n",
    "    \n",
    "    def beta_std(self):\n",
    "        cov=self.cov()\n",
    "        beta_std=np.sqrt(np.diag(cov))[:,np.newaxis]\n",
    "        return beta_std\n",
    "    \n",
    "    def cov(self):\n",
    "        yhat=self.predict()\n",
    "        e=self.y-yhat\n",
    "        s2=e.T@e/(self.n-self.k)\n",
    "        \n",
    "        if self.useRobust:\n",
    "            cov=(self.n/(self.n-self.k))*self.xxinv @ (self.X.T @ np.diag(np.diag(e @ e.T)) @self.X) @self.xxinv\n",
    "        else:\n",
    "            cov=s2*self.xxinv\n",
    "        return cov\n",
    "    \n",
    "    def MSE(self):\n",
    "        yhat=self.predict()\n",
    "        e=self.y-yhat\n",
    "        s2=e.T@e/(self.n-self.k)\n",
    "        MSE=np.sqrt(s2)[0,0]\n",
    "        return MSE\n",
    "    \n",
    "    \n",
    "    def predict(self):\n",
    "        yhat=self.X@self.beta()\n",
    "        return yhat\n",
    "    \n",
    "    def R2(self):\n",
    "        y_hat = self.predict()\n",
    "        return np.sum((y_hat - self.y)**2) / np.sum((self.y - np.mean(self.y))**2)\n",
    "    \n",
    "    def report(self):\n",
    "        print('Regression using {:s} method'.format(self.method))\n",
    "        print('Number of observations: {:d}\\nNumber of parameters: {:d}'.format(self.n,self.k))\n",
    "        print('OLS estimates (standard errors in parentheses):')\n",
    "        \n",
    "        if type(self.X)==pd.core.frame.DataFrame:\n",
    "            colnames=np.concatenate(pd.Series(self.X.columns.tolist()),pd.Series(['cons']))[:,np.newaxis]\n",
    "            for col,b,std in zip(colnames,self.beta(),self.beta_std()):\n",
    "                b=b[0]\n",
    "                std=std[0]\n",
    "                print('{:s} {:1.5f} ({:1.5f})'.format(col,b,std))\n",
    "        else:\n",
    "            #colnames=self.X.columns.tolist()\n",
    "            #colnames=colnames+['cons']\n",
    "            for b,std in zip(self.beta(),self.beta_std()):\n",
    "                b=b[0]\n",
    "                std=std[0]\n",
    "                print('{:1.5f} ({:1.5f})'.format(b,std))\n",
    "        print('MSE = {:1.5f}'.format(self.MSE()))\n",
    "        print('R2 = {:1.5f}\\n'.format(self.R2()))\n",
    "                "
   ]
  },
  {
   "cell_type": "code",
   "execution_count": 109,
   "metadata": {},
   "outputs": [
    {
     "name": "stdout",
     "output_type": "stream",
     "text": [
      "Regression using statsmodels method\n",
      "Number of observations: 10\n",
      "Number of parameters: 2\n",
      "OLS estimates (standard errors in parentheses):\n",
      "-1.00364 (0.03400)\n",
      "10.38000 (0.21096)\n",
      "MSE = 0.30881\n",
      "R2 = 0.00910\n",
      "\n",
      "Regression using byhand method\n",
      "Number of observations: 10\n",
      "Number of parameters: 2\n",
      "OLS estimates (standard errors in parentheses):\n",
      "-1.00364 (0.03400)\n",
      "10.38000 (0.21096)\n",
      "MSE = 0.30881\n",
      "R2 = 0.00910\n",
      "\n",
      "Regression using leastsquares method\n",
      "Number of observations: 10\n",
      "Number of parameters: 2\n",
      "OLS estimates (standard errors in parentheses):\n",
      "-1.00364 (0.03400)\n",
      "10.38000 (0.21096)\n",
      "MSE = 0.30881\n",
      "R2 = 0.00910\n",
      "\n"
     ]
    },
    {
     "name": "stderr",
     "output_type": "stream",
     "text": [
      "C:\\Users\\mramadhani3\\AppData\\Local\\Temp\\ipykernel_184204\\4091307649.py:33: DeprecationWarning: Use of `minimize` with `x0.ndim != 1` is deprecated. Currently, singleton dimensions will be removed from `x0`, but an error will be raised in SciPy 1.11.0.\n",
      "  beta=minimize(ssr, x0=np.zeros((self.X.shape[1],1)), args=(self.X, self.y)).x[:,np.newaxis]\n"
     ]
    }
   ],
   "source": [
    "# test with simple data\n",
    "X = np.array([1,2,3,4,5,6,7,8,9,10])\n",
    "y = np.array([9.4,8.1,7.7,6.3,5.7,4.4,3.0,2.1,1.1,0.8])\n",
    "\n",
    "manualOLS(X,y,method='statsmodels').report()\n",
    "manualOLS(X,y,method='byhand').report()\n",
    "manualOLS(X,y,method='leastsquares').report()"
   ]
  },
  {
   "cell_type": "code",
   "execution_count": 61,
   "metadata": {},
   "outputs": [
    {
     "data": {
      "text/plain": [
       "array([[9.37636364],\n",
       "       [8.37272727],\n",
       "       [7.36909091],\n",
       "       [6.36545455],\n",
       "       [5.36181818],\n",
       "       [4.35818182],\n",
       "       [3.35454545],\n",
       "       [2.35090909],\n",
       "       [1.34727273],\n",
       "       [0.34363636]])"
      ]
     },
     "execution_count": 61,
     "metadata": {},
     "output_type": "execute_result"
    }
   ],
   "source": [
    "\n",
    "manualOLS(X,y,method='statsmodels').predict()"
   ]
  },
  {
   "cell_type": "code",
   "execution_count": 11,
   "metadata": {},
   "outputs": [
    {
     "name": "stdout",
     "output_type": "stream",
     "text": [
      "Regression using byhand method\n",
      "Number of observations: 1000\n",
      "Number of parameters: 4\n",
      "OLS estimates (standard errors in parentheses):\n",
      "-109.66618 (7.94294)\n",
      "0.61534 (0.00678)\n",
      "3.25508 (1.93170)\n",
      "-83.60276 (154.69496)\n",
      "MSE = 125.65209\n",
      "R2 = 0.08066\n",
      "\n",
      "Regression using statsmodels method\n",
      "Number of observations: 1000\n",
      "Number of parameters: 4\n",
      "OLS estimates (standard errors in parentheses):\n",
      "-109.66618 (7.94823)\n",
      "0.61534 (0.00581)\n",
      "3.25508 (1.92383)\n",
      "-83.60276 (154.35957)\n",
      "MSE = 125.65209\n",
      "R2 = 0.08066\n",
      "\n"
     ]
    },
    {
     "name": "stderr",
     "output_type": "stream",
     "text": [
      "C:\\Users\\mramadhani3\\AppData\\Local\\Temp\\ipykernel_218316\\2621120571.py:19: FutureWarning: Support for multi-dimensional indexing (e.g. `obj[:, None]`) is deprecated and will be removed in a future version.  Convert to a numpy array before indexing instead.\n",
      "  self.y = self.y[:,np.newaxis]\n",
      "C:\\Users\\mramadhani3\\AppData\\Local\\Temp\\ipykernel_218316\\2621120571.py:19: FutureWarning: Support for multi-dimensional indexing (e.g. `obj[:, None]`) is deprecated and will be removed in a future version.  Convert to a numpy array before indexing instead.\n",
      "  self.y = self.y[:,np.newaxis]\n"
     ]
    }
   ],
   "source": [
    "datapath = r'C:\\Users\\mramadhani3\\OneDrive - Georgia Institute of Technology\\Documents\\Spring-24\\environmental-econ-ii\\phdee-24-MR\\homework-2\\data'\n",
    "outputpath = r'C:\\Users\\mramadhani3\\OneDrive - Georgia Institute of Technology\\Documents\\Spring-24\\environmental-econ-ii\\phdee-24-MR\\homework-2\\output'\n",
    "kwh=pd.read_csv(datapath +'/kwh.csv')\n",
    "manualOLS(kwh[['retrofit','sqft','temp']],kwh['electricity'],method='byhand',useRobust=True).report()\n",
    "manualOLS(kwh[['retrofit','sqft','temp']],kwh['electricity'],method='statsmodels').report()\n",
    "#manualOLS(kwh[['sqft','retrofit','temp']],kwh['electricity'],method='leastsquares').report()"
   ]
  },
  {
   "cell_type": "code",
   "execution_count": 439,
   "metadata": {},
   "outputs": [
    {
     "data": {
      "text/plain": [
       "True"
      ]
     },
     "execution_count": 439,
     "metadata": {},
     "output_type": "execute_result"
    }
   ],
   "source": [
    "type(kwh)==pd.core.frame.DataFrame"
   ]
  },
  {
   "cell_type": "code",
   "execution_count": 412,
   "metadata": {},
   "outputs": [
    {
     "data": {
      "text/plain": [
       "Index(['electricity', 'sqft', 'retrofit', 'temp'], dtype='object')"
      ]
     },
     "execution_count": 412,
     "metadata": {},
     "output_type": "execute_result"
    }
   ],
   "source": [
    "kwh.columns"
   ]
  },
  {
   "cell_type": "code",
   "execution_count": 352,
   "metadata": {},
   "outputs": [
    {
     "name": "stderr",
     "output_type": "stream",
     "text": [
      "C:\\Users\\mramadhani3\\AppData\\Local\\Temp\\ipykernel_208616\\1357716566.py:50: FutureWarning: In future versions `DataFrame.to_latex` is expected to utilise the base implementation of `Styler.to_latex` for formatting and rendering. The arguments signature may therefore change. It is recommended instead to use `DataFrame.style.to_latex` which also contains additional functionality.\n",
      "  col.to_latex(outputpath + '/table/table1.tex',column_format='lccc',escape=False)\n"
     ]
    }
   ],
   "source": [
    "from scipy import stats\n",
    "\n",
    "retro=kwh.loc[kwh['retrofit']==1].drop('retrofit',axis=1)\n",
    "noretro=kwh.loc[kwh['retrofit']==0].drop('retrofit',axis=1)\n",
    "\n",
    "# Generate a table of means and standard deviations for the observed variables (there are faster ways to do this that are less general)\n",
    "## Generate means and standard deviations\n",
    "means_control = noretro.mean()\n",
    "stdev_control = noretro.std()\n",
    "nobs_control = pd.Series(noretro.count().min())\n",
    "\n",
    "means_treatment_1 = retro.mean()\n",
    "stdev_treatment = retro.std()\n",
    "nobs_treatment = pd.Series(retro.count().min())\n",
    "\n",
    "## Compute P-values and t-statistics\n",
    "p_vals = []\n",
    "t_stats = []    \n",
    "for col in retro.columns:\n",
    "    p_vals.append(stats.ttest_ind(retro[col],noretro[col])[1])\n",
    "    t_stats.append(stats.ttest_ind(retro[col],noretro[col])[0])\n",
    "p_vals = pd.Series(p_vals, index = retro.columns)\n",
    "t_stats = pd.Series(t_stats, index = retro.columns)\n",
    "\n",
    "## Set the row and column names\n",
    "rownames = pd.concat([pd.Series(['Electricity','Square feet of home','Outdoor average temperature', 'Observations']),\n",
    "                      pd.Series([' ',' ',' '])],axis = 1).stack() # Note this stacks an empty list to make room for stdevs\n",
    "\n",
    "## Format means and std devs to display to two decimal places\n",
    "means_control = means_control.map('{:.2f}'.format)\n",
    "stdev_control = stdev_control.map('({:.2f})'.format)\n",
    "nobs_control = nobs_control.map('{:.0f}'.format)\n",
    "\n",
    "means_treatment = means_treatment_1.map('{:.2f}'.format)\n",
    "stdev_treatment = stdev_treatment.map('({:.2f})'.format)\n",
    "nobs_treatment = nobs_treatment.map('{:.0f}'.format)\n",
    "\n",
    "p_vals = p_vals.map('{:.3f}'.format)\n",
    "t_stats = t_stats.map('[{:.3f}]'.format)\n",
    "\n",
    "## Align std deviations under means and add observations\n",
    "col1 = pd.concat([means_control,stdev_control,nobs_control],axis = 1).stack()\n",
    "col2 = pd.concat([means_treatment,stdev_treatment,nobs_treatment],axis = 1).stack()\n",
    "col3 = pd.concat([p_vals,t_stats,pd.Series([' '])],axis = 1).stack()\n",
    "##------------------------------------------------------------\n",
    "\n",
    "## Add column and row labels.  Convert to dataframe (helps when you export it)\n",
    "col = pd.DataFrame({'Control': col1, 'Treatment': col2, 'P-value': col3})\n",
    "col.index = rownames\n",
    "col.to_latex(outputpath + '/table/table1.tex',column_format='lccc',escape=False)\n"
   ]
  },
  {
   "cell_type": "code",
   "execution_count": 244,
   "metadata": {},
   "outputs": [
    {
     "data": {
      "image/png": "[encoded data removed]",
      "text/plain": [
       "<Figure size 640x480 with 1 Axes>"
      ]
     },
     "metadata": {},
     "output_type": "display_data"
    }
   ],
   "source": [
    "# Plot a histogram of the outcome variable -----------------------------------\n",
    "import matplotlib.pyplot as plt\n",
    "import seaborn as sns\n",
    "\n",
    "fig = sns.kdeplot(retro['electricity'], color=\"r\")\n",
    "fig = sns.kdeplot(noretro['electricity'], color=\"b\")\n",
    "plt.xlabel('Monthly electricity consumption (kWh)')\n",
    "plt.legend(labels = ['Retrofit','No retrofit'],loc = 'best')\n",
    "plt.show\n",
    "plt.savefig(outputpath + '/figure/2_hist.pdf',format='pdf')"
   ]
  }
 ],
 "metadata": {
  "kernelspec": {
   "display_name": "base",
   "language": "python",
   "name": "python3"
  },
  "language_info": {
   "codemirror_mode": {
    "name": "ipython",
    "version": 3
   },
   "file_extension": ".py",
   "mimetype": "text/x-python",
   "name": "python",
   "nbconvert_exporter": "python",
   "pygments_lexer": "ipython3",
   "version": "3.11.4"
  }
 },
 "nbformat": 4,
 "nbformat_minor": 2
}
